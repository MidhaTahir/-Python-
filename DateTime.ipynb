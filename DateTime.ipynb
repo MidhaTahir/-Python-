{
 "cells": [
  {
   "cell_type": "code",
   "execution_count": 2,
   "metadata": {},
   "outputs": [
    {
     "name": "stdout",
     "output_type": "stream",
     "text": [
      "2019-09-23\n"
     ]
    }
   ],
   "source": [
    "import datetime\n",
    "print(datetime.date.today())"
   ]
  },
  {
   "cell_type": "code",
   "execution_count": 95,
   "metadata": {},
   "outputs": [
    {
     "name": "stdout",
     "output_type": "stream",
     "text": [
      "2019\n",
      "16\n"
     ]
    }
   ],
   "source": [
    "z = datetime.datetime.now() #The datetime() class also takes parameters for time and \n",
    "#timezone (hour, minute, second, microsecond, tzone), but they are optional, and has a default value of 0, (None for timezone)\n",
    "print(z.year)\n",
    "print(z.hour)"
   ]
  },
  {
   "cell_type": "code",
   "execution_count": 4,
   "metadata": {},
   "outputs": [
    {
     "name": "stdout",
     "output_type": "stream",
     "text": [
      "['MAXYEAR', 'MINYEAR', '__builtins__', '__cached__', '__doc__', '__file__', '__loader__', '__name__', '__package__', '__spec__', 'date', 'datetime', 'datetime_CAPI', 'sys', 'time', 'timedelta', 'timezone', 'tzinfo']\n"
     ]
    }
   ],
   "source": [
    "print(dir(datetime)) #We can use dir() function to get a list containing all attributes of a module."
   ]
  },
  {
   "cell_type": "code",
   "execution_count": 14,
   "metadata": {},
   "outputs": [
    {
     "name": "stdout",
     "output_type": "stream",
     "text": [
      "Current year: 2019\n",
      "Current month: 9\n",
      "Current day: 23\n"
     ]
    }
   ],
   "source": [
    "from datetime import date\n",
    "# date object of today's date\n",
    "today = date.today() \n",
    "print(\"Current year:\", today.year)\n",
    "print(\"Current month:\", today.month)\n",
    "print(\"Current day:\", today.day)"
   ]
  },
  {
   "cell_type": "code",
   "execution_count": 18,
   "metadata": {},
   "outputs": [
    {
     "name": "stdout",
     "output_type": "stream",
     "text": [
      "00:00:00\n",
      "11:34:56\n",
      "11:34:56\n",
      "11:34:56.739238\n"
     ]
    }
   ],
   "source": [
    "from datetime import time #from whole module we are importing time and can access it directly now\n",
    "a = time() #a is the object of time class\n",
    "print(a) #by default all time will be zero\n",
    "b = time(11,34,56) #hour,minute,second\n",
    "print(b)\n",
    "c = time(hour=11,minute=34,second=56)\n",
    "print(c)\n",
    "d = time(11,34,56,739238) #hour,minute,second,microsecond\n",
    "print(d)"
   ]
  },
  {
   "cell_type": "code",
   "execution_count": 22,
   "metadata": {},
   "outputs": [
    {
     "name": "stdout",
     "output_type": "stream",
     "text": [
      "2019-09-23 11:34:02.068687\n",
      "year = 2019\n",
      "month = 9\n",
      "hour = 11\n",
      "minute = 34\n",
      "timestamp = 1569263642.068687\n"
     ]
    }
   ],
   "source": [
    "from datetime import datetime\n",
    "a = datetime(2019,9,23,11,34,2,68687) #year,month,date,hour,minute,second,microsecond\n",
    "print(a)\n",
    "print(\"year =\", a.year)\n",
    "print(\"month =\", a.month)\n",
    "print(\"hour =\", a.hour)\n",
    "print(\"minute =\", a.minute)\n",
    "print(\"timestamp =\", a.timestamp()) '''A timestamp is the current time of an event that is recorded by a computer\n",
    "When writing a program, the programmer is usually provided an application program interface\n",
    "for a timestamp that the operating system can provide during program execution'''"
   ]
  },
  {
   "cell_type": "code",
   "execution_count": 85,
   "metadata": {},
   "outputs": [
    {
     "name": "stdout",
     "output_type": "stream",
     "text": [
      "348 days, 0:00:00\n",
      "348\n",
      "348 days, 5:16:58.029947\n",
      "<class 'datetime.timedelta'>\n",
      "<class 'datetime.timedelta'>\n"
     ]
    }
   ],
   "source": [
    "#Difference between two dates and time is achieved by timedelta type\n",
    "from datetime import date,datetime\n",
    "t1 = date.today()\n",
    "t2 = date(2018,10,10)\n",
    "t3 = t1-t2\n",
    "print(t3)\n",
    "print(t3.days) #to get days \n",
    "t1 = datetime.today()\n",
    "t2 = datetime(2018,10,10,11,5,30)\n",
    "t6 = t2-t1\n",
    "print(abs(t6)) #to print in positive\n",
    "print(type(t3))\n",
    "print(type(t6))"
   ]
  },
  {
   "cell_type": "code",
   "execution_count": 32,
   "metadata": {},
   "outputs": [
    {
     "name": "stdout",
     "output_type": "stream",
     "text": [
      "t3 = 14 days, 13:55:39\n"
     ]
    }
   ],
   "source": [
    "#Difference between two timedelta obj\n",
    "from datetime import timedelta\n",
    "t1 = timedelta(weeks = 2, days = 5, hours = 1, seconds = 33)\n",
    "t2 = timedelta(days = 4, hours = 11, minutes = 4, seconds = 54)\n",
    "t3 = t1 - t2\n",
    "print(\"t3 =\", t3)"
   ]
  },
  {
   "cell_type": "code",
   "execution_count": 34,
   "metadata": {},
   "outputs": [
    {
     "name": "stdout",
     "output_type": "stream",
     "text": [
      "t3 = -1 day, 23:59:39\n",
      "t3 = 0:00:21\n"
     ]
    }
   ],
   "source": [
    "#Printing negative timedelta object\n",
    "from datetime import timedelta\n",
    "t1 = timedelta(seconds = 33)\n",
    "t2 = timedelta(seconds = 54)\n",
    "t3 = t1 - t2\n",
    "print(\"t3 =\", t3)\n",
    "print(\"t3 =\", abs(t3)) #use absolute to print positive"
   ]
  },
  {
   "cell_type": "code",
   "execution_count": 37,
   "metadata": {},
   "outputs": [
    {
     "name": "stdout",
     "output_type": "stream",
     "text": [
      "total seconds = 435633.233423\n"
     ]
    }
   ],
   "source": [
    "#Time duration in seconds\n",
    "from datetime import timedelta\n",
    "t = timedelta(days = 5, hours = 1, seconds = 33, microseconds = 233423)\n",
    "print(\"total seconds =\", t.total_seconds())"
   ]
  },
  {
   "cell_type": "markdown",
   "metadata": {},
   "source": [
    "The strftime() Method:\n",
    "The datetime object has a method for formatting date objects into readable strings.\n",
    "\n",
    "The method is called strftime(), and takes one parameter, format, to specify the format of the returned string"
   ]
  },
  {
   "cell_type": "code",
   "execution_count": 61,
   "metadata": {},
   "outputs": [
    {
     "name": "stdout",
     "output_type": "stream",
     "text": [
      "June\n",
      "Jun\n",
      "Friday\n",
      "Fri\n",
      "2018\n",
      "06\n",
      "01\n"
     ]
    }
   ],
   "source": [
    "import datetime\n",
    "\n",
    "x = datetime.datetime(2018, 6, 1)\n",
    "\n",
    "print(x.strftime(\"%B\"))\n",
    "print(x.strftime(\"%b\"))\n",
    "print(x.strftime(\"%A\"))\n",
    "print(x.strftime(\"%a\"))\n",
    "print(x.strftime(\"%Y\"))\n",
    "print(x.strftime(\"%m\"))\n",
    "print(x.strftime(\"%d\"))"
   ]
  },
  {
   "cell_type": "code",
   "execution_count": 57,
   "metadata": {},
   "outputs": [
    {
     "name": "stdout",
     "output_type": "stream",
     "text": [
      "23 Sep,2019\n"
     ]
    }
   ],
   "source": [
    "currentDate=datetime.date.today() \n",
    "#strftime allows you to specify the date format \n",
    "print(currentDate.strftime('%d %b,%Y'))\n"
   ]
  },
  {
   "cell_type": "code",
   "execution_count": null,
   "metadata": {},
   "outputs": [],
   "source": [
    "'''%d is the day of the month\n",
    "%b is the abbreviation for the month\n",
    "%Y is the 4 digit year\n",
    "%b is the month abbreviation\n",
    "%B is the full month name\n",
    "%y is two digit year\n",
    "%a is the day of the week abbreviated\n",
    "%A is the day of the week'''"
   ]
  },
  {
   "cell_type": "code",
   "execution_count": 83,
   "metadata": {},
   "outputs": [
    {
     "name": "stdout",
     "output_type": "stream",
     "text": [
      "What is your birthday? 4/29/1999\n",
      "Your birth month is April\n"
     ]
    }
   ],
   "source": [
    "birthday=input(\"What is your birthday? mm/dd/yy\") \n",
    "birthdate=datetime.datetime.strptime(birthday,\"%m/%d/%Y\").date() #it parses a string into the given format\n",
    "#why did we list datetime twice?  \n",
    "#because we are calling the strptime function \n",
    "#which is part of the datetime class \n",
    "#which is in the datetime module \n",
    "print(\"Your birth month is \"+birthdate.strftime('%B'))"
   ]
  },
  {
   "cell_type": "code",
   "execution_count": 84,
   "metadata": {},
   "outputs": [
    {
     "data": {
      "text/plain": [
       "datetime.date"
      ]
     },
     "execution_count": 84,
     "metadata": {},
     "output_type": "execute_result"
    }
   ],
   "source": [
    "type(birthdate)"
   ]
  },
  {
   "cell_type": "code",
   "execution_count": 90,
   "metadata": {},
   "outputs": [
    {
     "name": "stdout",
     "output_type": "stream",
     "text": [
      "2019-10-08\n",
      "2019-09-23\n"
     ]
    }
   ],
   "source": [
    "import datetime\n",
    "currentDate=datetime.date.today() \n",
    "#timedelta allows you to specify the time \n",
    "#to add or subtract from a date \n",
    "print(currentDate+datetime.timedelta(days=15)) \n",
    "print(currentDate+datetime.timedelta(hours=15))\n"
   ]
  },
  {
   "cell_type": "code",
   "execution_count": 101,
   "metadata": {},
   "outputs": [
    {
     "name": "stdout",
     "output_type": "stream",
     "text": [
      "16:30\n",
      "04:30\n"
     ]
    },
    {
     "data": {
      "text/plain": [
       "' %H \\tHours (24 hr clock)\\n    %I \\tHours (12 hr clock)\\n    %p \\tAM or PM\\n    %M \\tMinutes\\n    %m Month\\n    %S \\tSeconds\\n'"
      ]
     },
     "execution_count": 101,
     "metadata": {},
     "output_type": "execute_result"
    }
   ],
   "source": [
    "import datetime\n",
    "currentTime=datetime.datetime.now() \n",
    "print(datetime.datetime.strftime(currentTime,'%H:%M'))\n",
    "print(datetime.datetime.strftime(currentTime,'%I:%M'))\n",
    "''' %H \tHours (24 hr clock)\n",
    "    %I \tHours (12 hr clock)\n",
    "    %p \tAM or PM\n",
    "    %M \tMinutes\n",
    "    %m Month\n",
    "    %S \tSeconds\n",
    "'''\n"
   ]
  },
  {
   "cell_type": "code",
   "execution_count": null,
   "metadata": {},
   "outputs": [],
   "source": []
  }
 ],
 "metadata": {
  "kernelspec": {
   "display_name": "Python 3",
   "language": "python",
   "name": "python3"
  },
  "language_info": {
   "codemirror_mode": {
    "name": "ipython",
    "version": 3
   },
   "file_extension": ".py",
   "mimetype": "text/x-python",
   "name": "python",
   "nbconvert_exporter": "python",
   "pygments_lexer": "ipython3",
   "version": "3.7.3"
  }
 },
 "nbformat": 4,
 "nbformat_minor": 2
}
