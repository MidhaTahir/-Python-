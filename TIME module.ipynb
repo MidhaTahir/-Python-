{
 "cells": [
  {
   "cell_type": "code",
   "execution_count": 1,
   "metadata": {},
   "outputs": [],
   "source": [
    "import time"
   ]
  },
  {
   "cell_type": "code",
   "execution_count": 10,
   "metadata": {},
   "outputs": [
    {
     "data": {
      "text/plain": [
       "1574342964.7585092"
      ]
     },
     "execution_count": 10,
     "metadata": {},
     "output_type": "execute_result"
    }
   ],
   "source": [
    "initial = time.time() #gives time for every tick(second)\n",
    "initial"
   ]
  },
  {
   "cell_type": "code",
   "execution_count": 16,
   "metadata": {},
   "outputs": [
    {
     "name": "stdout",
     "output_type": "stream",
     "text": [
      "Mids\n",
      "Mids\n",
      "Mids\n",
      "Mids\n",
      "Mids\n",
      "Mids\n",
      "Mids\n",
      "Mids\n",
      "Mids\n",
      "Mids\n",
      "Mids\n",
      "Mids\n",
      "Mids\n",
      "Mids\n",
      "Mids\n",
      "Mids\n",
      "Mids\n",
      "Mids\n",
      "Mids\n",
      "Mids\n",
      "Mids\n",
      "Mids\n",
      "Mids\n",
      "Mids\n",
      "Mids\n",
      "349.99662709236145\n"
     ]
    }
   ],
   "source": [
    "k = 0\n",
    "while(k<25):\n",
    "    print(\"Mids\")\n",
    "    time.sleep(2) #2 sec delay \n",
    "    k+=1\n",
    "print(time.time()-initial) #while loop time"
   ]
  },
  {
   "cell_type": "code",
   "execution_count": 14,
   "metadata": {},
   "outputs": [
    {
     "name": "stdout",
     "output_type": "stream",
     "text": [
      "mids\n",
      "mids\n",
      "mids\n",
      "mids\n",
      "mids\n",
      "mids\n",
      "mids\n",
      "mids\n",
      "mids\n",
      "mids\n",
      "mids\n",
      "mids\n",
      "mids\n",
      "mids\n",
      "mids\n",
      "mids\n",
      "mids\n",
      "mids\n",
      "mids\n",
      "mids\n",
      "mids\n",
      "mids\n",
      "mids\n",
      "mids\n",
      "mids\n",
      "78.41401052474976\n"
     ]
    }
   ],
   "source": [
    "initial2 = time.time()\n",
    "for i in range(25):\n",
    "    print(\"mids\")\n",
    "print(time.time()-initial)"
   ]
  },
  {
   "cell_type": "code",
   "execution_count": 15,
   "metadata": {},
   "outputs": [],
   "source": [
    "#in usual practice we run program many times then we take avg of time , time/number of times"
   ]
  },
  {
   "cell_type": "code",
   "execution_count": null,
   "metadata": {},
   "outputs": [],
   "source": []
  }
 ],
 "metadata": {
  "kernelspec": {
   "display_name": "Python 3",
   "language": "python",
   "name": "python3"
  },
  "language_info": {
   "codemirror_mode": {
    "name": "ipython",
    "version": 3
   },
   "file_extension": ".py",
   "mimetype": "text/x-python",
   "name": "python",
   "nbconvert_exporter": "python",
   "pygments_lexer": "ipython3",
   "version": "3.7.6"
  }
 },
 "nbformat": 4,
 "nbformat_minor": 2
}
